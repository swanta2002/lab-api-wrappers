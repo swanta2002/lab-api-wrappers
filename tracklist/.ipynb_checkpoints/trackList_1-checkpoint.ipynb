{
 "cells": [
  {
   "cell_type": "code",
   "execution_count": null,
   "id": "c5da194d",
   "metadata": {},
   "outputs": [],
   "source": [
    "import pandas as pd\n",
    "import spotipy\n",
    "from spotipy.oauth2 import SpotifyClientCredentials\n",
    "from pandas import json_normalize\n",
    "import matplotlib.pyplot as plt\n",
    "import numpy as np"
   ]
  },
  {
   "cell_type": "code",
   "execution_count": null,
   "id": "0475eac8",
   "metadata": {},
   "outputs": [],
   "source": [
    "secrets_file = open(\"secret.txt\",\"r\")\n",
    "string = secrets_file.read()"
   ]
  },
  {
   "cell_type": "code",
   "execution_count": null,
   "id": "d3a53503",
   "metadata": {},
   "outputs": [],
   "source": [
    "#string"
   ]
  },
  {
   "cell_type": "code",
   "execution_count": null,
   "id": "4e14e6c9",
   "metadata": {},
   "outputs": [],
   "source": [
    "secrets_dict={}\n",
    "for line in string.split('\\n'):\n",
    "    if len(line) > 0:\n",
    "        secrets_dict[line.split(':')[0]]=line.split(':')[1].strip()"
   ]
  },
  {
   "cell_type": "markdown",
   "id": "69b92bf7",
   "metadata": {},
   "source": [
    "# Authentication with Secrets"
   ]
  },
  {
   "cell_type": "code",
   "execution_count": null,
   "id": "ba515919",
   "metadata": {},
   "outputs": [],
   "source": [
    "#Initialize SpotiPy with user credentials\n",
    "sp = spotipy.Spotify(auth_manager=SpotifyClientCredentials(client_id=secrets_dict['clientID'],\n",
    "                                                           client_secret=secrets_dict['ClientSecret']))"
   ]
  },
  {
   "cell_type": "markdown",
   "id": "b659f749",
   "metadata": {},
   "source": [
    "# Searching for songs with sp.search Query"
   ]
  },
  {
   "cell_type": "code",
   "execution_count": null,
   "id": "43e85823",
   "metadata": {},
   "outputs": [],
   "source": [
    "results = sp.search(q='2Pac')#limit=50)\n",
    "results"
   ]
  },
  {
   "cell_type": "code",
   "execution_count": null,
   "id": "2b745fd9",
   "metadata": {},
   "outputs": [],
   "source": [
    "tracks = json_normalize(results[\"tracks\"][\"items\"])\n",
    "#tracks"
   ]
  },
  {
   "cell_type": "code",
   "execution_count": null,
   "id": "fb96a455",
   "metadata": {},
   "outputs": [],
   "source": [
    "len(results[\"tracks\"][\"items\"]) # 50 Tracks (as limited, it is the maximum)"
   ]
  },
  {
   "cell_type": "code",
   "execution_count": null,
   "id": "87adb01c",
   "metadata": {},
   "outputs": [],
   "source": [
    "#results[\"tracks\"][\"items\"][0]# Explore the first song"
   ]
  },
  {
   "cell_type": "code",
   "execution_count": null,
   "id": "c22ff734",
   "metadata": {},
   "outputs": [],
   "source": [
    "results[\"tracks\"][\"items\"][0].keys() # We will focus on album, artists, id, name, popularity, type and uri"
   ]
  },
  {
   "cell_type": "markdown",
   "id": "bf5b143b",
   "metadata": {},
   "source": [
    "# Checking Album"
   ]
  },
  {
   "cell_type": "code",
   "execution_count": null,
   "id": "aa6d9f63",
   "metadata": {},
   "outputs": [],
   "source": [
    "# we have more info about the album\n",
    "results[\"tracks\"][\"items\"][0][\"album\"]"
   ]
  },
  {
   "cell_type": "code",
   "execution_count": null,
   "id": "e11fabe8",
   "metadata": {},
   "outputs": [],
   "source": [
    "# Will check artists, id, name, release date, total tracks\n",
    "results[\"tracks\"][\"items\"][0][\"album\"].keys() "
   ]
  },
  {
   "cell_type": "code",
   "execution_count": null,
   "id": "b0ace851",
   "metadata": {},
   "outputs": [],
   "source": [
    "# check name of album\n",
    "results[\"tracks\"][\"items\"][0][\"album\"][\"name\"]"
   ]
  },
  {
   "cell_type": "code",
   "execution_count": null,
   "id": "b6c86756",
   "metadata": {},
   "outputs": [],
   "source": [
    "# List with artists and information\n",
    "results[\"tracks\"][\"items\"][0][\"album\"][\"artists\"] "
   ]
  },
  {
   "cell_type": "code",
   "execution_count": null,
   "id": "07624c16",
   "metadata": {},
   "outputs": [],
   "source": [
    "#THIS FUNCTION WILL BE USED AGAIN!\n",
    "def get_name_artists_from_track(track):\n",
    "    return [(track[\"name\"],artist[\"name\"]) for artist in track[\"artists\"]]"
   ]
  },
  {
   "cell_type": "code",
   "execution_count": null,
   "id": "5ddeaace",
   "metadata": {},
   "outputs": [],
   "source": [
    "my_track = results[\"tracks\"][\"items\"][0]\n",
    "get_name_artists_from_track(my_track)"
   ]
  },
  {
   "cell_type": "code",
   "execution_count": null,
   "id": "6214c944",
   "metadata": {},
   "outputs": [],
   "source": [
    "[get_name_artists_from_track(list_el) for list_el in results[\"tracks\"][\"items\"][0:5]]"
   ]
  },
  {
   "cell_type": "code",
   "execution_count": null,
   "id": "bd038af7",
   "metadata": {},
   "outputs": [],
   "source": [
    "all_songs_artists = list(map(get_name_artists_from_track,results['tracks']['items']))\n",
    "all_songs_artists"
   ]
  },
  {
   "cell_type": "code",
   "execution_count": null,
   "id": "94616eb5",
   "metadata": {},
   "outputs": [],
   "source": [
    "#flattening is not in the standard library but used a lot. you'll thank me later\n",
    "def flatten(input_list):\n",
    "    return [item for sublist in input_list for item in sublist]\n",
    "\n",
    "# outlist=[]\n",
    "# for sublist in input_list:\n",
    "#     for item in sublist:\n",
    "#         outlist.append(item)\n",
    "# return outlist\n",
    "\n",
    "flatten(all_songs_artists)"
   ]
  },
  {
   "cell_type": "code",
   "execution_count": null,
   "id": "c5851567",
   "metadata": {},
   "outputs": [],
   "source": [
    "def get_name_artists_from_list(tracks):\n",
    "    return flatten(list(map(get_name_artists_from_track,tracks['items'])))\n",
    "get_name_artists_from_list(results['tracks'])"
   ]
  },
  {
   "cell_type": "markdown",
   "id": "9c9a0d94",
   "metadata": {},
   "source": [
    "# PlayList"
   ]
  },
  {
   "cell_type": "code",
   "execution_count": null,
   "id": "1d5a680a",
   "metadata": {},
   "outputs": [],
   "source": [
    "playlist = sp.user_playlist_tracks(\"spotify\", \"5d0yADd07UN3xjifrYGHkG\") # playlist \n",
    "#playlist = sp.user_playlist_tracks(\"spotify\", \"6yPiKpy7evrwvZodByKvM9\") # playlist\n",
    "\n",
    "playlist"
   ]
  },
  {
   "cell_type": "code",
   "execution_count": null,
   "id": "d812567c",
   "metadata": {},
   "outputs": [],
   "source": [
    "playlist.keys()"
   ]
  },
  {
   "cell_type": "code",
   "execution_count": null,
   "id": "2bdea624",
   "metadata": {},
   "outputs": [],
   "source": [
    "playlist[\"items\"][0].keys()"
   ]
  },
  {
   "cell_type": "code",
   "execution_count": null,
   "id": "0593bd7c",
   "metadata": {},
   "outputs": [],
   "source": [
    "#playlist[\"items\"][0][\"track\"]"
   ]
  },
  {
   "cell_type": "code",
   "execution_count": null,
   "id": "b3b529d9",
   "metadata": {},
   "outputs": [],
   "source": [
    "playlist[\"items\"][0][\"track\"][\"name\"]"
   ]
  },
  {
   "cell_type": "code",
   "execution_count": null,
   "id": "9dfed8d5",
   "metadata": {},
   "outputs": [],
   "source": [
    "# 15 songs!! Let's check items:\n",
    "playlist[\"total\"] "
   ]
  },
  {
   "cell_type": "code",
   "execution_count": null,
   "id": "6d48bcff",
   "metadata": {},
   "outputs": [],
   "source": [
    "# 15 songs!! Let's check items:\n",
    "len(playlist[\"items\"])"
   ]
  },
  {
   "cell_type": "code",
   "execution_count": null,
   "id": "cdf5ccc9",
   "metadata": {},
   "outputs": [],
   "source": []
  },
  {
   "cell_type": "code",
   "execution_count": null,
   "id": "b5717aac",
   "metadata": {},
   "outputs": [],
   "source": [
    "#first we need to get a list of individual tracks from the playlist\n",
    "def get_name_artist_from_playlist_item(playlist_item):\n",
    "    return get_name_artists_from_track(playlist_item['track'])"
   ]
  },
  {
   "cell_type": "code",
   "execution_count": null,
   "id": "ef19c61d",
   "metadata": {},
   "outputs": [],
   "source": [
    "get_name_artist_from_playlist_item(playlist[\"items\"][0])"
   ]
  },
  {
   "cell_type": "code",
   "execution_count": null,
   "id": "a07f77e0",
   "metadata": {},
   "outputs": [],
   "source": [
    "def get_name_artists_from_playlist(input_playlist):\n",
    "    return list(map(get_name_artist_from_playlist_item,input_playlist[\"items\"]))\n",
    "\n",
    "get_name_artists_from_playlist(playlist)"
   ]
  },
  {
   "cell_type": "code",
   "execution_count": null,
   "id": "ef81833f",
   "metadata": {},
   "outputs": [],
   "source": [
    "def get_name_artists_from_playlist(input_playlist):\n",
    "    return flatten(list(map(get_name_artist_from_playlist_item,input_playlist[\"items\"])))\n",
    "\n",
    "get_name_artists_from_playlist(playlist)"
   ]
  },
  {
   "cell_type": "code",
   "execution_count": null,
   "id": "fb12ee0d",
   "metadata": {},
   "outputs": [],
   "source": []
  },
  {
   "cell_type": "code",
   "execution_count": null,
   "id": "061365a4",
   "metadata": {},
   "outputs": [],
   "source": [
    "# we will need more songs for our clustering\n",
    "#this is the playlist of previous cohorts\n",
    "playlist = sp.user_playlist_tracks(\"spotify\", \"5d0yADd07UN3xjifrYGHkG\")"
   ]
  },
  {
   "cell_type": "code",
   "execution_count": null,
   "id": "4ee0a9e1",
   "metadata": {},
   "outputs": [],
   "source": [
    "playlist[\"total\"] "
   ]
  },
  {
   "cell_type": "code",
   "execution_count": null,
   "id": "4d18966e",
   "metadata": {},
   "outputs": [],
   "source": [
    "# It is limited to 100 tracks, we will have to fix it:\n",
    "len(playlist[\"items\"])"
   ]
  },
  {
   "cell_type": "code",
   "execution_count": null,
   "id": "84990e68",
   "metadata": {},
   "outputs": [],
   "source": []
  },
  {
   "cell_type": "code",
   "execution_count": null,
   "id": "c25e13a6",
   "metadata": {},
   "outputs": [],
   "source": [
    "playlist['next']"
   ]
  },
  {
   "cell_type": "code",
   "execution_count": null,
   "id": "1f30f321",
   "metadata": {},
   "outputs": [],
   "source": [
    "sp.next(playlist)"
   ]
  },
  {
   "cell_type": "code",
   "execution_count": null,
   "id": "cca8ab10",
   "metadata": {},
   "outputs": [],
   "source": [
    "from random import randint\n",
    "from time import sleep\n",
    "\n",
    "def get_playlist_tracks(playlist_id):\n",
    "    results = sp.user_playlist_tracks(\"spotify\",playlist_id)\n",
    "    tracks = results['items']\n",
    "    while results['next']!=None:\n",
    "        results = sp.next(results)\n",
    "        tracks = tracks + results['items']\n",
    "        sleep(randint(1,3))\n",
    "    return tracks"
   ]
  },
  {
   "cell_type": "code",
   "execution_count": null,
   "id": "402561b0",
   "metadata": {},
   "outputs": [],
   "source": [
    "# this will take at least around num_songs_in_playlist * (avg_sleep_time + processing_time) = 53 * (2+0.1) = 110 seconds\n",
    "\n",
    "all_tracks = get_playlist_tracks(\"5d0yADd07UN3xjifrYGHkG\")\n",
    "len(all_tracks)"
   ]
  },
  {
   "cell_type": "code",
   "execution_count": null,
   "id": "d72c2e33",
   "metadata": {},
   "outputs": [],
   "source": [
    "all_tracks"
   ]
  },
  {
   "cell_type": "code",
   "execution_count": null,
   "id": "98dd11fa",
   "metadata": {},
   "outputs": [],
   "source": [
    "all_tracks = [{'title': items['track']['name'], 'artist': items['track']['artists'][0]['name'], 'uri': items['track']['uri']} for items in all_tracks]\n",
    "all_tracks = pd.DataFrame(all_tracks) \n",
    "    \n",
    "# df = pd.DataFrame(columns = ['title', 'artists', 'uri'])\n",
    "# for items in all_tracks:     \n",
    "#         title = items['track']['name']\n",
    "#         artist = items['track']['artists'][0]['name']\n",
    "#         uri = items['track']['uri']\n",
    "        \n",
    "#         df = df.append({'title':title, 'artist': artists, 'uri': uri})\n",
    "    \n",
    "# all_tracks = all_tracks.append({'title': title, 'artist': artists, 'uri': uri})"
   ]
  },
  {
   "cell_type": "code",
   "execution_count": null,
   "id": "48d180d4",
   "metadata": {},
   "outputs": [],
   "source": [
    "all_tracks.head(5)"
   ]
  },
  {
   "cell_type": "code",
   "execution_count": null,
   "id": "ae2ecc55",
   "metadata": {},
   "outputs": [],
   "source": []
  },
  {
   "cell_type": "code",
   "execution_count": null,
   "id": "8873eb7a",
   "metadata": {},
   "outputs": [],
   "source": [
    "# features = []\n",
    "# for uri in all_tracks['uri']:\n",
    "#     #print(uri)\n",
    "#     track_features = sp.audio_features(uri)\n",
    "#     if track_features:\n",
    "#         features.append(track_features[0])\n",
    "#     else:\n",
    "#         print(f'No featuresfound for uri: {uri}')\n",
    "\n",
    "# features_df = pd.DataFrame(features)\n",
    "# merged_df = pd.merge(all_tracks, features_df, left_on = 'uri', right_on = 'uri')\n",
    "        "
   ]
  },
  {
   "cell_type": "code",
   "execution_count": null,
   "id": "0e0f70d6",
   "metadata": {},
   "outputs": [],
   "source": [
    "#merged_df "
   ]
  },
  {
   "cell_type": "code",
   "execution_count": null,
   "id": "e3a561ac",
   "metadata": {},
   "outputs": [],
   "source": []
  },
  {
   "cell_type": "markdown",
   "id": "336edfcb",
   "metadata": {},
   "source": [
    "# Clustering"
   ]
  },
  {
   "cell_type": "code",
   "execution_count": null,
   "id": "39c75dfe",
   "metadata": {},
   "outputs": [],
   "source": [
    "music_data = pd.read_csv('dataset-of-60s.csv')\n",
    "music_data"
   ]
  },
  {
   "cell_type": "code",
   "execution_count": null,
   "id": "bbb61189",
   "metadata": {},
   "outputs": [],
   "source": [
    "numerical_features =  music_data.select_dtypes(np.number) # numerical variables\n",
    "#numerical_features"
   ]
  },
  {
   "cell_type": "code",
   "execution_count": null,
   "id": "f0d19b58",
   "metadata": {},
   "outputs": [],
   "source": [
    "numerical_features.head()"
   ]
  },
  {
   "cell_type": "code",
   "execution_count": null,
   "id": "20852bae",
   "metadata": {},
   "outputs": [],
   "source": [
    "categorical_ =  music_data.select_dtypes(object) # numerical variables\n",
    "#categorical_"
   ]
  },
  {
   "cell_type": "code",
   "execution_count": null,
   "id": "11b161ce",
   "metadata": {},
   "outputs": [],
   "source": [
    "categorical_.head()"
   ]
  },
  {
   "cell_type": "code",
   "execution_count": null,
   "id": "f40203da",
   "metadata": {},
   "outputs": [],
   "source": [
    "numerical_features.isna().sum().sum()"
   ]
  },
  {
   "cell_type": "code",
   "execution_count": null,
   "id": "2c8e189e",
   "metadata": {},
   "outputs": [],
   "source": [
    "numerical_features.describe().T"
   ]
  },
  {
   "cell_type": "code",
   "execution_count": null,
   "id": "150b663d",
   "metadata": {},
   "outputs": [],
   "source": [
    "from sklearn.preprocessing import StandardScaler\n",
    "#from sklearn.model_selection import train_test_split\n",
    "from sklearn.cluster import KMeans"
   ]
  },
  {
   "cell_type": "code",
   "execution_count": null,
   "id": "db0a21ed",
   "metadata": {},
   "outputs": [],
   "source": [
    "y = numerical_features['target']                     # splitting data into X and y variables\n",
    "X = numerical_features.drop(['target'], axis=1) \n",
    "#X_num = X.select_dtypes(include = np.number)\n",
    "#X_cat = X.select_dtypes(include = object)"
   ]
  },
  {
   "cell_type": "code",
   "execution_count": null,
   "id": "810e3ea2",
   "metadata": {},
   "outputs": [],
   "source": [
    "#X_train, X_test, y_train, y_test = train_test_split(X, y, test_size=0.2, random_state=59)\n",
    "# X_train.describe().T\n",
    "# X_test.describe().T"
   ]
  },
  {
   "cell_type": "code",
   "execution_count": null,
   "id": "78690595",
   "metadata": {},
   "outputs": [],
   "source": [
    "#scaler = StandardScaler()\n",
    "#scaler.fit(X_train)\n",
    "#X_train_scaled = scaler.transform(X_train)\n",
    "#same thing in 1 line\n",
    "#X_train_scaled = scaler.fit_transform(X_train)\n",
    "\n",
    "X_prep = StandardScaler().fit_transform(X)\n",
    "\n",
    "# Now, all features will have the same weight.\n",
    "pd.DataFrame(X_prep,columns=X.columns).head()"
   ]
  },
  {
   "cell_type": "code",
   "execution_count": null,
   "id": "bac937a1",
   "metadata": {},
   "outputs": [],
   "source": [
    "#X_test_scaled = scaler.transform(X_test)\n",
    "#pd.DataFrame(X_train_scaled).describe().T"
   ]
  },
  {
   "cell_type": "code",
   "execution_count": null,
   "id": "f5b20dab",
   "metadata": {},
   "outputs": [],
   "source": [
    "#pd.DataFrame(X_test_scaled).describe().T"
   ]
  },
  {
   "cell_type": "markdown",
   "id": "7b00d94c",
   "metadata": {},
   "source": [
    "# KMeans Clustering Without PCA"
   ]
  },
  {
   "cell_type": "code",
   "execution_count": null,
   "id": "a04671b6",
   "metadata": {},
   "outputs": [],
   "source": [
    "kmeans = KMeans(n_clusters=3, random_state=1234)\n",
    "kmeans.fit(X_prep)"
   ]
  },
  {
   "cell_type": "code",
   "execution_count": null,
   "id": "b3fe4518",
   "metadata": {},
   "outputs": [],
   "source": [
    "# clusters = kmeans.predict(X_prep)     # Predicting / assigning the clusters\n",
    "\n",
    "# pd.Series(clusters).value_counts().sort_index()   # Check the size of the clusters"
   ]
  },
  {
   "cell_type": "code",
   "execution_count": null,
   "id": "819335ce",
   "metadata": {},
   "outputs": [],
   "source": [
    "# clusters"
   ]
  },
  {
   "cell_type": "code",
   "execution_count": null,
   "id": "25bdf43d",
   "metadata": {},
   "outputs": [],
   "source": []
  },
  {
   "cell_type": "code",
   "execution_count": null,
   "id": "4d97e7ad",
   "metadata": {},
   "outputs": [],
   "source": [
    "# categorical_['clusters'] = clusters\n",
    "# categorical_"
   ]
  },
  {
   "cell_type": "code",
   "execution_count": null,
   "id": "d9e1a8b7",
   "metadata": {},
   "outputs": [],
   "source": [
    "# cluster_3_categorical_ = categorical_[categorical_['clusters'] == 2]\n",
    "# #cluster_3_categorical_"
   ]
  },
  {
   "cell_type": "code",
   "execution_count": null,
   "id": "cf1315ad",
   "metadata": {},
   "outputs": [],
   "source": [
    "# plt.figure(figsize=(5, 5))\n",
    "# plt.scatter(X_prep[:, 0], X_prep[:, 1], c=clusters,alpha=0.5)\n",
    "# plt.show()"
   ]
  },
  {
   "cell_type": "code",
   "execution_count": null,
   "id": "97448716",
   "metadata": {},
   "outputs": [],
   "source": [
    "# from sklearn.metrics import confusion_matrix\n",
    "# #!pip install kneed\n",
    "# from kneed import KneeLocator\n",
    "# confusion_matrix(y, clusters)"
   ]
  },
  {
   "cell_type": "code",
   "execution_count": null,
   "id": "500bf4aa",
   "metadata": {},
   "outputs": [],
   "source": [
    "# kmeans.inertia_ "
   ]
  },
  {
   "cell_type": "code",
   "execution_count": null,
   "id": "75387537",
   "metadata": {},
   "outputs": [],
   "source": [
    "# %%time\n",
    "# kmeans = KMeans(n_clusters=4,\n",
    "#                 init=\"random\",\n",
    "#                 n_init=100,  # try with 1, 4, 8, 20, 30, 100...\n",
    "#                 max_iter=10,\n",
    "#                 tol=0,\n",
    "#                 random_state=1234)\n",
    "# kmeans.fit(X_prep)\n",
    "# print(kmeans.inertia_)"
   ]
  },
  {
   "cell_type": "code",
   "execution_count": null,
   "id": "b31c4ad5",
   "metadata": {},
   "outputs": [],
   "source": [
    "# K = range(2, 20)\n",
    "# inertia = []\n",
    "\n",
    "# for k in K:\n",
    "#     kmeans = KMeans(n_clusters=k,\n",
    "#                     random_state=1234)\n",
    "#     kmeans.fit(X_prep)\n",
    "#     inertia.append(kmeans.inertia_)\n",
    "    \n",
    "# #n_clusters = KneeLocator([i for i in range(1, K)], inertia, curve = 'convex', direction = 'decreasing').knee\n",
    "# #print('Optimal number of clusters', n_clusters)\n",
    "\n",
    "# import matplotlib.pyplot as plt\n",
    "# %matplotlib inline\n",
    "\n",
    "# plt.figure(figsize=(16,8))\n",
    "# plt.plot(K, inertia, 'bx-')\n",
    "# plt.xlabel('k')\n",
    "# plt.ylabel('inertia')\n",
    "# plt.xticks(np.arange(min(K), max(K)+1, 1.0))\n",
    "# plt.title('Elbow Method showing the optimal k')"
   ]
  },
  {
   "cell_type": "code",
   "execution_count": null,
   "id": "d5490468",
   "metadata": {},
   "outputs": [],
   "source": [
    "kmeans = KMeans(n_clusters=7, random_state=1234)\n",
    "kmeans.fit(X_prep)"
   ]
  },
  {
   "cell_type": "code",
   "execution_count": null,
   "id": "3be37f4c",
   "metadata": {},
   "outputs": [],
   "source": [
    "cluster_num = kmeans.predict(X_prep)     # Predicting / assigning the clusters\n",
    "\n",
    "pd.Series(cluster_num).value_counts().sort_index()   # Check the size of the clusters"
   ]
  },
  {
   "cell_type": "code",
   "execution_count": null,
   "id": "d94972d0",
   "metadata": {},
   "outputs": [],
   "source": [
    "cluster_num"
   ]
  },
  {
   "cell_type": "code",
   "execution_count": null,
   "id": "fdf08249",
   "metadata": {},
   "outputs": [],
   "source": [
    "categorical_['cluster_num'] = cluster_num\n",
    "#categorical_"
   ]
  },
  {
   "cell_type": "code",
   "execution_count": null,
   "id": "4d8c05fb",
   "metadata": {},
   "outputs": [],
   "source": [
    "cluster_3_categorical_ = categorical_[categorical_['cluster_num'] == 4]\n",
    "#cluster_3_categorical_"
   ]
  },
  {
   "cell_type": "code",
   "execution_count": null,
   "id": "144df09c",
   "metadata": {},
   "outputs": [],
   "source": [
    "plt.figure(figsize=(5, 5))\n",
    "plt.scatter(X_prep[:, 0], X_prep[:, 1], c=cluster_num,alpha=0.5)\n",
    "plt.show()"
   ]
  },
  {
   "cell_type": "markdown",
   "id": "7ea94eaa",
   "metadata": {},
   "source": [
    "# Recommneder"
   ]
  },
  {
   "cell_type": "code",
   "execution_count": null,
   "id": "b6761c5a",
   "metadata": {},
   "outputs": [],
   "source": [
    "userInput = input(\"Enter a song title:\").lower()\n",
    "if userInput in music_data['track'].values:\n",
    "    recommend_song = random.choice(music_data['track'])\n",
    "else:\n",
    "    print('No reccomendation')\n",
    "    \n",
    "#recommend_song"
   ]
  },
  {
   "cell_type": "code",
   "execution_count": null,
   "id": "80758bff",
   "metadata": {},
   "outputs": [],
   "source": []
  },
  {
   "cell_type": "code",
   "execution_count": null,
   "id": "0089cbd1",
   "metadata": {},
   "outputs": [],
   "source": []
  }
 ],
 "metadata": {
  "kernelspec": {
   "display_name": "Python 3 (ipykernel)",
   "language": "python",
   "name": "python3"
  },
  "language_info": {
   "codemirror_mode": {
    "name": "ipython",
    "version": 3
   },
   "file_extension": ".py",
   "mimetype": "text/x-python",
   "name": "python",
   "nbconvert_exporter": "python",
   "pygments_lexer": "ipython3",
   "version": "3.11.3"
  }
 },
 "nbformat": 4,
 "nbformat_minor": 5
}
