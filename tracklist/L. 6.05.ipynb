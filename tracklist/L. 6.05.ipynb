{
 "cells": [
  {
   "cell_type": "markdown",
   "metadata": {
    "id": "kOBk3PQHeJef"
   },
   "source": [
    "# Lesson 6.5 - API Wrappers"
   ]
  },
  {
   "cell_type": "markdown",
   "metadata": {
    "id": "VV6-BdPzeJen"
   },
   "source": [
    "## Lesson 1 key concepts"
   ]
  },
  {
   "cell_type": "markdown",
   "metadata": {
    "id": "Q0FDQa03eJeo"
   },
   "source": [
    "## Spotipy API\n",
    "\n",
    "Create an Spotify account and follow these steps to register an app: https://developer.spotify.com/documentation/general/guides/app-settings/\n",
    "\n",
    "After the app is created, you can see it on your dashboard\n",
    "https://developer.spotify.com/dashboard/applications\n",
    "\n",
    "Click on it and you'll find the client id and client secret."
   ]
  },
  {
   "cell_type": "code",
   "execution_count": null,
   "metadata": {
    "id": "0h1RmZ5joIoV"
   },
   "outputs": [],
   "source": [
    "#!pip install spotipy"
   ]
  },
  {
   "cell_type": "markdown",
   "metadata": {
    "id": "OhLA0o_5eJep"
   },
   "source": [
    "#### Authentification"
   ]
  },
  {
   "cell_type": "code",
   "execution_count": 2,
   "metadata": {
    "id": "JuPP1QvSaGdp"
   },
   "outputs": [],
   "source": [
    "import spotipy\n",
    "from spotipy.oauth2 import SpotifyClientCredentials\n",
    "\n",
    "#Initialize SpotiPy with user credentials\n",
    "#sp = spotipy.Spotify(auth_manager=SpotifyClientCredentials(client_id='<your client id here>',\n",
    "#                                                           client_secret='<your client secret here>'))"
   ]
  },
  {
   "cell_type": "markdown",
   "metadata": {
    "id": "4iW0BQKonLZq"
   },
   "source": [
    "##### storing secrets"
   ]
  },
  {
   "cell_type": "code",
   "execution_count": 3,
   "metadata": {
    "id": "P6Z1QB7eeJeq"
   },
   "outputs": [
    {
     "ename": "FileNotFoundError",
     "evalue": "[Errno 2] No such file or directory: 'secrets.txt'",
     "output_type": "error",
     "traceback": [
      "\u001b[1;31m---------------------------------------------------------------------------\u001b[0m",
      "\u001b[1;31mFileNotFoundError\u001b[0m                         Traceback (most recent call last)",
      "Cell \u001b[1;32mIn[3], line 1\u001b[0m\n\u001b[1;32m----> 1\u001b[0m secrets_file \u001b[38;5;241m=\u001b[39m \u001b[38;5;28;43mopen\u001b[39;49m\u001b[43m(\u001b[49m\u001b[38;5;124;43m\"\u001b[39;49m\u001b[38;5;124;43msecrets.txt\u001b[39;49m\u001b[38;5;124;43m\"\u001b[39;49m\u001b[43m,\u001b[49m\u001b[38;5;124;43m\"\u001b[39;49m\u001b[38;5;124;43mr\u001b[39;49m\u001b[38;5;124;43m\"\u001b[39;49m\u001b[43m)\u001b[49m\n",
      "File \u001b[1;32m~\\AppData\\Roaming\\Python\\Python311\\site-packages\\IPython\\core\\interactiveshell.py:284\u001b[0m, in \u001b[0;36m_modified_open\u001b[1;34m(file, *args, **kwargs)\u001b[0m\n\u001b[0;32m    277\u001b[0m \u001b[38;5;28;01mif\u001b[39;00m file \u001b[38;5;129;01min\u001b[39;00m {\u001b[38;5;241m0\u001b[39m, \u001b[38;5;241m1\u001b[39m, \u001b[38;5;241m2\u001b[39m}:\n\u001b[0;32m    278\u001b[0m     \u001b[38;5;28;01mraise\u001b[39;00m \u001b[38;5;167;01mValueError\u001b[39;00m(\n\u001b[0;32m    279\u001b[0m         \u001b[38;5;124mf\u001b[39m\u001b[38;5;124m\"\u001b[39m\u001b[38;5;124mIPython won\u001b[39m\u001b[38;5;124m'\u001b[39m\u001b[38;5;124mt let you open fd=\u001b[39m\u001b[38;5;132;01m{\u001b[39;00mfile\u001b[38;5;132;01m}\u001b[39;00m\u001b[38;5;124m by default \u001b[39m\u001b[38;5;124m\"\u001b[39m\n\u001b[0;32m    280\u001b[0m         \u001b[38;5;124m\"\u001b[39m\u001b[38;5;124mas it is likely to crash IPython. If you know what you are doing, \u001b[39m\u001b[38;5;124m\"\u001b[39m\n\u001b[0;32m    281\u001b[0m         \u001b[38;5;124m\"\u001b[39m\u001b[38;5;124myou can use builtins\u001b[39m\u001b[38;5;124m'\u001b[39m\u001b[38;5;124m open.\u001b[39m\u001b[38;5;124m\"\u001b[39m\n\u001b[0;32m    282\u001b[0m     )\n\u001b[1;32m--> 284\u001b[0m \u001b[38;5;28;01mreturn\u001b[39;00m \u001b[43mio_open\u001b[49m\u001b[43m(\u001b[49m\u001b[43mfile\u001b[49m\u001b[43m,\u001b[49m\u001b[43m \u001b[49m\u001b[38;5;241;43m*\u001b[39;49m\u001b[43margs\u001b[49m\u001b[43m,\u001b[49m\u001b[43m \u001b[49m\u001b[38;5;241;43m*\u001b[39;49m\u001b[38;5;241;43m*\u001b[39;49m\u001b[43mkwargs\u001b[49m\u001b[43m)\u001b[49m\n",
      "\u001b[1;31mFileNotFoundError\u001b[0m: [Errno 2] No such file or directory: 'secrets.txt'"
     ]
    }
   ],
   "source": [
    "secrets_file = open(\"secrets.txt\",\"r\")"
   ]
  },
  {
   "cell_type": "code",
   "execution_count": null,
   "metadata": {
    "id": "zdU3d3_0hNYz"
   },
   "outputs": [],
   "source": []
  },
  {
   "cell_type": "code",
   "execution_count": null,
   "metadata": {
    "id": "O_zvc84bnbh2"
   },
   "outputs": [],
   "source": [
    "string = secrets_file.read()"
   ]
  },
  {
   "cell_type": "code",
   "execution_count": null,
   "metadata": {
    "id": "qE_-56J0ak4B"
   },
   "outputs": [],
   "source": [
    "string"
   ]
  },
  {
   "cell_type": "code",
   "execution_count": null,
   "metadata": {
    "id": "kXwHdEdLndJZ"
   },
   "outputs": [],
   "source": [
    "string.split('\\n')"
   ]
  },
  {
   "cell_type": "code",
   "execution_count": null,
   "metadata": {
    "id": "gZmYnRSNngr7"
   },
   "outputs": [],
   "source": [
    "secrets_dict={}\n",
    "for line in string.split('\\n'):\n",
    "    if len(line) > 0:\n",
    "        secrets_dict[line.split(':')[0]]=line.split(':')[1].strip()"
   ]
  },
  {
   "cell_type": "code",
   "execution_count": null,
   "metadata": {
    "id": "5iV66R_RnhXR"
   },
   "outputs": [],
   "source": [
    "secrets_dict"
   ]
  },
  {
   "cell_type": "markdown",
   "metadata": {
    "id": "oAQak0FunTy8"
   },
   "source": [
    "#### authentication with secrets"
   ]
  },
  {
   "cell_type": "code",
   "execution_count": null,
   "metadata": {
    "id": "HkTY3iTCnYdC"
   },
   "outputs": [],
   "source": [
    "import spotipy\n",
    "from spotipy.oauth2 import SpotifyClientCredentials\n",
    "\n",
    "#Initialize SpotiPy with user credentials\n",
    "sp = spotipy.Spotify(auth_manager=SpotifyClientCredentials(client_id=secrets_dict['cid'],\n",
    "                                                           client_secret=secrets_dict['csecret']))"
   ]
  },
  {
   "cell_type": "markdown",
   "metadata": {
    "id": "rQRQUV1ZeJeq"
   },
   "source": [
    "#### Searching songs with 'queries' with `sp.search`"
   ]
  },
  {
   "cell_type": "code",
   "execution_count": null,
   "metadata": {
    "id": "Awr0ket6eJer"
   },
   "outputs": [],
   "source": [
    "results = sp.search(q='Lady Gaga', limit=50)\n",
    "results"
   ]
  },
  {
   "cell_type": "markdown",
   "metadata": {
    "id": "w9AVjbrneJer"
   },
   "source": [
    "## Lesson 2 key concepts"
   ]
  },
  {
   "cell_type": "markdown",
   "metadata": {
    "id": "3vkGVRRteJes"
   },
   "source": [
    "### Understand Previous Output:"
   ]
  },
  {
   "cell_type": "code",
   "execution_count": null,
   "metadata": {
    "id": "1eXMvmgteJes"
   },
   "outputs": [],
   "source": [
    "results.keys() # We can see that we only have a list (dictionary) of tracks"
   ]
  },
  {
   "cell_type": "code",
   "execution_count": null,
   "metadata": {
    "id": "aZnQb-tveJes"
   },
   "outputs": [],
   "source": [
    "results[\"tracks\"].keys() # Let's check the values"
   ]
  },
  {
   "cell_type": "code",
   "execution_count": null,
   "metadata": {
    "id": "rFjFo-8weJet"
   },
   "outputs": [],
   "source": [
    "results[\"tracks\"][\"href\"] # Query we have searched "
   ]
  },
  {
   "cell_type": "code",
   "execution_count": null,
   "metadata": {
    "id": "uCdFV55SeJet",
    "scrolled": true
   },
   "outputs": [],
   "source": [
    "results[\"tracks\"][\"items\"] #items (actual tracks)"
   ]
  },
  {
   "cell_type": "code",
   "execution_count": null,
   "metadata": {
    "id": "KPvR7-lTHSMH"
   },
   "outputs": [],
   "source": [
    "len(results[\"tracks\"][\"items\"])"
   ]
  },
  {
   "cell_type": "code",
   "execution_count": null,
   "metadata": {
    "id": "FuZ7YtceeJet"
   },
   "outputs": [],
   "source": [
    "results[\"tracks\"][\"limit\"]#Limit we have chosen"
   ]
  },
  {
   "cell_type": "code",
   "execution_count": null,
   "metadata": {
    "id": "LdqgA15zeJet"
   },
   "outputs": [],
   "source": [
    "results[\"tracks\"][\"next\"] #link to the next 'page' (next 50 tracks)"
   ]
  },
  {
   "cell_type": "code",
   "execution_count": null,
   "metadata": {
    "id": "COnekLajeJeu"
   },
   "outputs": [],
   "source": [
    "results[\"tracks\"][\"offset\"] # Actual offset (starting point)"
   ]
  },
  {
   "cell_type": "code",
   "execution_count": null,
   "metadata": {
    "id": "PmFG6lfaeJeu"
   },
   "outputs": [],
   "source": [
    "results[\"tracks\"][\"previous\"] #Previous search"
   ]
  },
  {
   "cell_type": "code",
   "execution_count": null,
   "metadata": {
    "id": "jIhNSsNVak4I"
   },
   "outputs": [],
   "source": [
    "results[\"tracks\"][\"total\"]"
   ]
  },
  {
   "cell_type": "markdown",
   "metadata": {
    "id": "ZwMA_S5neJeu"
   },
   "source": [
    "### Exploring the tracks:"
   ]
  },
  {
   "cell_type": "code",
   "execution_count": null,
   "metadata": {
    "id": "ln7K4EXJeJeu"
   },
   "outputs": [],
   "source": [
    "len(results[\"tracks\"][\"items\"]) # 50 Tracks (as limited, it is the maximum)"
   ]
  },
  {
   "cell_type": "code",
   "execution_count": null,
   "metadata": {
    "id": "TwgDwosXeJev"
   },
   "outputs": [],
   "source": [
    "results[\"tracks\"][\"items\"][0]# Explore the first song"
   ]
  },
  {
   "cell_type": "code",
   "execution_count": null,
   "metadata": {
    "id": "Cn5VKCnEeJev"
   },
   "outputs": [],
   "source": [
    "results[\"tracks\"][\"items\"][0].keys() # We will focus on album, artists, id, name, popularity, type and uri"
   ]
  },
  {
   "cell_type": "markdown",
   "metadata": {
    "id": "btSALGeAeJev"
   },
   "source": [
    "### Check Albums:"
   ]
  },
  {
   "cell_type": "code",
   "execution_count": null,
   "metadata": {
    "id": "a1TchyhmeJev"
   },
   "outputs": [],
   "source": [
    "# we have more info about the album\n",
    "results[\"tracks\"][\"items\"][0][\"album\"] "
   ]
  },
  {
   "cell_type": "code",
   "execution_count": null,
   "metadata": {
    "id": "i7KYtUhdeJew"
   },
   "outputs": [],
   "source": [
    "# Will check artists, id, name, release date, total tracks\n",
    "results[\"tracks\"][\"items\"][0][\"album\"].keys() "
   ]
  },
  {
   "cell_type": "code",
   "execution_count": null,
   "metadata": {
    "id": "GS52IIhyrQKz"
   },
   "outputs": [],
   "source": [
    "# check name of album\n",
    "results[\"tracks\"][\"items\"][0][\"album\"][\"name\"] "
   ]
  },
  {
   "cell_type": "code",
   "execution_count": null,
   "metadata": {
    "id": "qhhHDjXfeJew"
   },
   "outputs": [],
   "source": [
    "# List with artists and information\n",
    "results[\"tracks\"][\"items\"][0][\"album\"][\"artists\"] "
   ]
  },
  {
   "cell_type": "markdown",
   "metadata": {
    "id": "F-JO1-d9jOeL"
   },
   "source": [
    "Spotify objects are identified by either a \"url\", a \"uri\" or an \"id\". \n",
    "\n",
    "- The `id` is an alphanumeric code, and it's the nuclear part of the identifier.\n",
    "\n",
    "- The `uri` contains \"spotify:track\" before the id. An uri is useful because it can be searched manually in the Spotify app.\n",
    "\n",
    "- The `url` is a link to the song on the Spotify web player."
   ]
  },
  {
   "cell_type": "code",
   "execution_count": null,
   "metadata": {
    "id": "11vupz8-Sws8"
   },
   "outputs": [],
   "source": [
    "# Album ref\n",
    "results[\"tracks\"][\"items\"][0][\"album\"][\"href\"] "
   ]
  },
  {
   "cell_type": "code",
   "execution_count": null,
   "metadata": {
    "id": "UFUO6b-heJew"
   },
   "outputs": [],
   "source": [
    "# Album ID\n",
    "results[\"tracks\"][\"items\"][0][\"album\"][\"id\"] "
   ]
  },
  {
   "cell_type": "code",
   "execution_count": null,
   "metadata": {
    "id": "rrMgpRTObfVV"
   },
   "outputs": [],
   "source": [
    "# Album uri\n",
    "results[\"tracks\"][\"items\"][0][\"album\"][\"uri\"] "
   ]
  },
  {
   "cell_type": "code",
   "execution_count": null,
   "metadata": {
    "id": "AEyGJz1veJex"
   },
   "outputs": [],
   "source": [
    "#songs in the album\n",
    "results[\"tracks\"][\"items\"][0][\"album\"][\"total_tracks\"] "
   ]
  },
  {
   "cell_type": "markdown",
   "metadata": {
    "id": "mLm0EtxLeJex"
   },
   "source": [
    "### About the song itself:"
   ]
  },
  {
   "cell_type": "code",
   "execution_count": null,
   "metadata": {
    "id": "D5iYZ6GCr6L6"
   },
   "outputs": [],
   "source": [
    "# Track name\n",
    "results[\"tracks\"][\"items\"][0][\"name\"] "
   ]
  },
  {
   "cell_type": "code",
   "execution_count": null,
   "metadata": {
    "id": "oKjo-KwOeJex"
   },
   "outputs": [],
   "source": [
    "# Track artists\n",
    "results[\"tracks\"][\"items\"][0][\"artists\"] "
   ]
  },
  {
   "cell_type": "code",
   "execution_count": null,
   "metadata": {
    "id": "sDGrIy6zeJey"
   },
   "outputs": [],
   "source": [
    "# Track ID\n",
    "results[\"tracks\"][\"items\"][0][\"id\"] "
   ]
  },
  {
   "cell_type": "code",
   "execution_count": null,
   "metadata": {
    "id": "J7uqVt0AeJey"
   },
   "outputs": [],
   "source": [
    "# Popularity index\n",
    "results[\"tracks\"][\"items\"][0][\"popularity\"] "
   ]
  },
  {
   "cell_type": "markdown",
   "metadata": {
    "id": "z-Rmlx8deJez"
   },
   "source": [
    "### Activity 1 - Searching multiple artists "
   ]
  },
  {
   "cell_type": "code",
   "execution_count": null,
   "metadata": {
    "id": "pBSLyZwseJez"
   },
   "outputs": [],
   "source": []
  },
  {
   "cell_type": "markdown",
   "metadata": {
    "id": "JutWmuSdeJez"
   },
   "source": [
    "### Activity 2 - Exploring the tracks"
   ]
  },
  {
   "cell_type": "code",
   "execution_count": null,
   "metadata": {
    "id": "pbfsUuTZeJe0"
   },
   "outputs": [],
   "source": []
  },
  {
   "cell_type": "markdown",
   "metadata": {
    "id": "OJQZG6V7eJe0"
   },
   "source": [
    "## Function to get the name of the song + artists involved in track:"
   ]
  },
  {
   "cell_type": "code",
   "execution_count": null,
   "metadata": {
    "id": "-Zs95drYeJe0"
   },
   "outputs": [],
   "source": [
    "#THIS FUNCTION WILL BE USED AGAIN!\n",
    "def get_name_artists_from_track(track):\n",
    "    return [(track[\"name\"],artist[\"name\"]) for artist in track[\"artists\"]]"
   ]
  },
  {
   "cell_type": "code",
   "execution_count": null,
   "metadata": {
    "id": "QwrldrLGeJe0"
   },
   "outputs": [],
   "source": [
    "my_track = results[\"tracks\"][\"items\"][0]"
   ]
  },
  {
   "cell_type": "code",
   "execution_count": null,
   "metadata": {
    "id": "grK9Q_3ueJe1"
   },
   "outputs": [],
   "source": [
    "get_name_artists_from_track(my_track)"
   ]
  },
  {
   "cell_type": "code",
   "execution_count": null,
   "metadata": {
    "id": "2BFImn3xak4Q"
   },
   "outputs": [],
   "source": [
    "[get_name_artists_from_track(list_el) for list_el in results[\"tracks\"][\"items\"][0:5]]"
   ]
  },
  {
   "cell_type": "code",
   "execution_count": null,
   "metadata": {
    "id": "Hquh3Tzfkn07"
   },
   "outputs": [],
   "source": [
    "all_songs_artists = list(map(get_name_artists_from_track,results['tracks']['items']))\n",
    "all_songs_artists"
   ]
  },
  {
   "cell_type": "code",
   "execution_count": null,
   "metadata": {
    "id": "2KoPP3J2lyZO"
   },
   "outputs": [],
   "source": [
    "#flattening is not in the standard library but used a lot. you'll thank me later\n",
    "def flatten(input_list):\n",
    "    return [item for sublist in input_list for item in sublist]\n",
    "\n",
    "# outlist=[]\n",
    "# for sublist in input_list:\n",
    "#     for item in sublist:\n",
    "#         outlist.append(item)\n",
    "# return outlist"
   ]
  },
  {
   "cell_type": "code",
   "execution_count": null,
   "metadata": {
    "id": "vNPWT-Z8mDTr"
   },
   "outputs": [],
   "source": [
    "flatten(all_songs_artists)"
   ]
  },
  {
   "cell_type": "code",
   "execution_count": null,
   "metadata": {
    "id": "ktfNCIFinlaY"
   },
   "outputs": [],
   "source": [
    "def get_name_artists_from_list(tracks):\n",
    "    return flatten(list(map(get_name_artists_from_track,tracks['items'])))"
   ]
  },
  {
   "cell_type": "code",
   "execution_count": null,
   "metadata": {
    "id": "23FZKJ4Yn37Z"
   },
   "outputs": [],
   "source": [
    "get_name_artists_from_list(results['tracks'])"
   ]
  },
  {
   "cell_type": "markdown",
   "metadata": {
    "id": "tuHwMYm7eJe2"
   },
   "source": [
    "### Playlists\n",
    "\n",
    "We will need to collect a \"database\" of songs. Playlists are a good way to access relatively large amounts of songs."
   ]
  },
  {
   "cell_type": "code",
   "execution_count": null,
   "metadata": {
    "id": "ELgJ1L0OeJe2"
   },
   "outputs": [],
   "source": [
    "# we will use our 'first paid music' playlist as an example:\n",
    "playlist = sp.user_playlist_tracks(\"spotify\", \"3LgwHwHUnheGm88n8pDdA7\")"
   ]
  },
  {
   "cell_type": "code",
   "execution_count": null,
   "metadata": {
    "id": "SU68F3j3VFRA"
   },
   "outputs": [],
   "source": [
    "playlist"
   ]
  },
  {
   "cell_type": "code",
   "execution_count": null,
   "metadata": {
    "id": "Bt0gRt3yeJe3"
   },
   "outputs": [],
   "source": [
    "# Let's look at items and total:\n",
    "playlist.keys() "
   ]
  },
  {
   "cell_type": "code",
   "execution_count": null,
   "metadata": {
    "id": "9G1L45gdnVJ8"
   },
   "outputs": [],
   "source": [
    "playlist[\"items\"][0].keys()"
   ]
  },
  {
   "cell_type": "code",
   "execution_count": null,
   "metadata": {
    "id": "Ncj6Q_LjZtcA"
   },
   "outputs": [],
   "source": [
    "playlist[\"items\"][0][\"track\"]"
   ]
  },
  {
   "cell_type": "code",
   "execution_count": null,
   "metadata": {
    "id": "Txj3-v5vna4h"
   },
   "outputs": [],
   "source": [
    "playlist[\"items\"][0][\"track\"][\"name\"]"
   ]
  },
  {
   "cell_type": "code",
   "execution_count": null,
   "metadata": {
    "id": "l0yBFx3deJe3"
   },
   "outputs": [],
   "source": [
    "# 15 songs!! Let's check items:\n",
    "playlist[\"total\"] "
   ]
  },
  {
   "cell_type": "code",
   "execution_count": null,
   "metadata": {
    "id": "z2Z07kvQeJe3"
   },
   "outputs": [],
   "source": [
    " # It is limited to 100 tracks, we will have to fix it:\n",
    "len(playlist[\"items\"])"
   ]
  },
  {
   "cell_type": "markdown",
   "metadata": {
    "id": "c6yIMLBrpdf6"
   },
   "source": [
    "Activity: build a function that gets the names and artists of all songs in a playlist"
   ]
  },
  {
   "cell_type": "code",
   "execution_count": null,
   "metadata": {
    "id": "sNxXDmcipjxs"
   },
   "outputs": [],
   "source": [
    "#first we need to get a list of individual tracks from the playlist\n",
    "def get_name_artist_from_playlist_item(playlist_item):\n",
    "    return get_name_artists_from_track(playlist_item['track'])"
   ]
  },
  {
   "cell_type": "code",
   "execution_count": null,
   "metadata": {
    "id": "m3Mf8TdIsnLB"
   },
   "outputs": [],
   "source": [
    "get_name_artist_from_playlist_item(playlist[\"items\"][0])"
   ]
  },
  {
   "cell_type": "code",
   "execution_count": null,
   "metadata": {
    "id": "mb6kY1VooW4l"
   },
   "outputs": [],
   "source": [
    "def get_name_artists_from_playlist(input_playlist):\n",
    "    return list(map(get_name_artist_from_playlist_item,input_playlist[\"items\"]))"
   ]
  },
  {
   "cell_type": "code",
   "execution_count": null,
   "metadata": {
    "id": "tKp03Dokp8rW"
   },
   "outputs": [],
   "source": [
    "get_name_artists_from_playlist(playlist)"
   ]
  },
  {
   "cell_type": "code",
   "execution_count": null,
   "metadata": {
    "id": "hzbJDFSXqnGc"
   },
   "outputs": [],
   "source": [
    "def get_name_artists_from_playlist(input_playlist):\n",
    "    return flatten(list(map(get_name_artist_from_playlist_item,input_playlist[\"items\"])))"
   ]
  },
  {
   "cell_type": "code",
   "execution_count": null,
   "metadata": {
    "id": "ZpNGVmWwqsOy"
   },
   "outputs": [],
   "source": [
    "get_name_artists_from_playlist(playlist)"
   ]
  },
  {
   "cell_type": "markdown",
   "metadata": {
    "id": "yo1WSKzltvso"
   },
   "source": [
    "# Handling large playlists"
   ]
  },
  {
   "cell_type": "code",
   "execution_count": null,
   "metadata": {
    "id": "mbK1y25Ds0U5"
   },
   "outputs": [],
   "source": [
    "# we will need more songs for our clustering\n",
    "#this is the playlist of previous cohorts\n",
    "playlist = sp.user_playlist_tracks(\"spotify\", \"4rnleEAOdmFAbRcNCgZMpY\")"
   ]
  },
  {
   "cell_type": "code",
   "execution_count": null,
   "metadata": {
    "id": "mGHkfglOs_lj"
   },
   "outputs": [],
   "source": [
    "playlist[\"total\"] "
   ]
  },
  {
   "cell_type": "code",
   "execution_count": null,
   "metadata": {
    "id": "NpyPMu3ctX-t"
   },
   "outputs": [],
   "source": [
    "# It is limited to 100 tracks, we will have to fix it:\n",
    "len(playlist[\"items\"])"
   ]
  },
  {
   "cell_type": "markdown",
   "metadata": {
    "id": "gZhf22PreJe4"
   },
   "source": [
    "Function to extract all songs from a playlist"
   ]
  },
  {
   "cell_type": "code",
   "execution_count": null,
   "metadata": {
    "id": "T60HHKUvs-fx"
   },
   "outputs": [],
   "source": [
    "playlist['next']"
   ]
  },
  {
   "cell_type": "code",
   "execution_count": null,
   "metadata": {
    "id": "3kRTZHvptl7A"
   },
   "outputs": [],
   "source": [
    "sp.next(playlist)"
   ]
  },
  {
   "cell_type": "code",
   "execution_count": null,
   "metadata": {
    "id": "fmY2SJRVeJe4"
   },
   "outputs": [],
   "source": [
    "from random import randint\n",
    "from time import sleep\n",
    "\n",
    "def get_playlist_tracks(playlist_id):\n",
    "    results = sp.user_playlist_tracks(\"spotify\",playlist_id)\n",
    "    tracks = results['items']\n",
    "    while results['next']!=None:\n",
    "        results = sp.next(results)\n",
    "        tracks = tracks + results['items']\n",
    "        sleep(randint(1,3))\n",
    "    return tracks"
   ]
  },
  {
   "cell_type": "code",
   "execution_count": null,
   "metadata": {
    "id": "Egt1qLpWeJe4"
   },
   "outputs": [],
   "source": [
    "# this will take at least around num_songs_in_playlist * (avg_sleep_time + processing_time) = 53 * (2+0.1) = 110 seconds\n",
    "\n",
    "all_tracks = get_playlist_tracks(\"4rnleEAOdmFAbRcNCgZMpY\")\n",
    "len(all_tracks)"
   ]
  },
  {
   "cell_type": "markdown",
   "metadata": {
    "id": "kPSm9s45eJe-"
   },
   "source": [
    "### Audio features\n",
    "\n",
    "You can check here an explanation of the audio features: https://developer.spotify.com/documentation/web-api/reference/tracks/get-audio-features/"
   ]
  },
  {
   "cell_type": "code",
   "execution_count": null,
   "metadata": {
    "id": "OPUhz5RZeJe-"
   },
   "outputs": [],
   "source": [
    "# here we look only at the first page\n",
    "playlist = sp.user_playlist_tracks(\"spotify\", \"4rnleEAOdmFAbRcNCgZMpY\")"
   ]
  },
  {
   "cell_type": "code",
   "execution_count": null,
   "metadata": {
    "id": "2ajplrB7uTUZ"
   },
   "outputs": [],
   "source": [
    "playlist[\"items\"][33][\"track\"][\"name\"]"
   ]
  },
  {
   "cell_type": "code",
   "execution_count": null,
   "metadata": {
    "id": "v4PQabNBv3J8"
   },
   "outputs": [],
   "source": [
    "playlist[\"items\"][46][\"track\"][\"name\"]"
   ]
  },
  {
   "cell_type": "code",
   "execution_count": null,
   "metadata": {
    "id": "ZKswOz8ueJe_"
   },
   "outputs": [],
   "source": [
    "# get the uri of a single song:\n",
    "song_uri = playlist[\"items\"][33][\"track\"][\"uri\"]\n",
    "song_uri"
   ]
  },
  {
   "cell_type": "code",
   "execution_count": null,
   "metadata": {
    "id": "Kk2k5TSIeJe_"
   },
   "outputs": [],
   "source": [
    "# get the audio features for that song\n",
    "sp.audio_features(song_uri)"
   ]
  },
  {
   "cell_type": "code",
   "execution_count": null,
   "metadata": {
    "id": "z5MrvnpuuQS6"
   },
   "outputs": [],
   "source": [
    "# get the uri of a single song:\n",
    "song_uri = playlist[\"items\"][46][\"track\"][\"uri\"]"
   ]
  },
  {
   "cell_type": "code",
   "execution_count": null,
   "metadata": {
    "id": "iv7bT6YXwee7"
   },
   "outputs": [],
   "source": [
    "# get the audio features for that song\n",
    "sp.audio_features(song_uri)"
   ]
  },
  {
   "cell_type": "code",
   "execution_count": null,
   "metadata": {
    "id": "xYJL1ogSwguQ"
   },
   "outputs": [],
   "source": []
  },
  {
   "cell_type": "code",
   "execution_count": null,
   "metadata": {
    "id": "OJiobU-Xak4a"
   },
   "outputs": [],
   "source": []
  }
 ],
 "metadata": {
  "colab": {
   "provenance": []
  },
  "kernelspec": {
   "display_name": "Python 3 (ipykernel)",
   "language": "python",
   "name": "python3"
  },
  "language_info": {
   "codemirror_mode": {
    "name": "ipython",
    "version": 3
   },
   "file_extension": ".py",
   "mimetype": "text/x-python",
   "name": "python",
   "nbconvert_exporter": "python",
   "pygments_lexer": "ipython3",
   "version": "3.11.3"
  }
 },
 "nbformat": 4,
 "nbformat_minor": 1
}
